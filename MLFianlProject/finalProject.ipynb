{
 "cells": [
  {
   "cell_type": "raw",
   "metadata": {},
   "source": [
    "For this project I have downloaded a dataset of FIFA 2019 player statistics. This data has a veriety of player information\n",
    "Including nationality, rating, wage, positions, and various attributes.\n",
    "\n",
    "The aim of the project is to see what attributes most allign with a players value/wage. \n",
    "Obvious choices would be Overall, however it will be excluded here as it is not clear what determines Overall mark in FIFA.\n",
    "Some attributes are plane facts, nationality, age etc.\n",
    "Other attributes are testable, such as sprint speed, tackling ability, shooting ability etc.\n",
    "It is with this combined information I believe a real club would use to price a player and so making a predictive model would be of high importance to a club. "
   ]
  },
  {
   "cell_type": "code",
   "execution_count": 107,
   "metadata": {},
   "outputs": [],
   "source": [
    "import pandas as pd\n",
    "import numpy as np\n",
    "from time import time\n",
    "from IPython.display import display\n",
    "from numpy import mean as avg\n",
    "from pandas import DataFrame as df\n",
    "# Pretty display for notebooks\n",
    "%matplotlib inline"
   ]
  },
  {
   "cell_type": "code",
   "execution_count": 125,
   "metadata": {},
   "outputs": [
    {
     "name": "stdout",
     "output_type": "stream",
     "text": [
      "Number of rows : 18159\n"
     ]
    },
    {
     "data": {
      "text/html": [
       "<div>\n",
       "<style scoped>\n",
       "    .dataframe tbody tr th:only-of-type {\n",
       "        vertical-align: middle;\n",
       "    }\n",
       "\n",
       "    .dataframe tbody tr th {\n",
       "        vertical-align: top;\n",
       "    }\n",
       "\n",
       "    .dataframe thead th {\n",
       "        text-align: right;\n",
       "    }\n",
       "</style>\n",
       "<table border=\"1\" class=\"dataframe\">\n",
       "  <thead>\n",
       "    <tr style=\"text-align: right;\">\n",
       "      <th></th>\n",
       "      <th>ID</th>\n",
       "      <th>Name</th>\n",
       "      <th>Age</th>\n",
       "      <th>Nationality</th>\n",
       "      <th>Overall</th>\n",
       "      <th>Potential</th>\n",
       "      <th>Club</th>\n",
       "      <th>Value</th>\n",
       "      <th>Wage</th>\n",
       "      <th>Special</th>\n",
       "      <th>...</th>\n",
       "      <th>Penalties</th>\n",
       "      <th>Composure</th>\n",
       "      <th>Marking</th>\n",
       "      <th>StandingTackle</th>\n",
       "      <th>SlidingTackle</th>\n",
       "      <th>GKDiving</th>\n",
       "      <th>GKHandling</th>\n",
       "      <th>GKKicking</th>\n",
       "      <th>GKPositioning</th>\n",
       "      <th>GKReflexes</th>\n",
       "    </tr>\n",
       "  </thead>\n",
       "  <tbody>\n",
       "    <tr>\n",
       "      <th>0</th>\n",
       "      <td>20801</td>\n",
       "      <td>Cristiano Ronaldo</td>\n",
       "      <td>33</td>\n",
       "      <td>Portugal</td>\n",
       "      <td>94</td>\n",
       "      <td>94</td>\n",
       "      <td>Juventus</td>\n",
       "      <td>77000000.0</td>\n",
       "      <td>405000.0</td>\n",
       "      <td>2228</td>\n",
       "      <td>...</td>\n",
       "      <td>85</td>\n",
       "      <td>95</td>\n",
       "      <td>28</td>\n",
       "      <td>31</td>\n",
       "      <td>23</td>\n",
       "      <td>7</td>\n",
       "      <td>11</td>\n",
       "      <td>15</td>\n",
       "      <td>14</td>\n",
       "      <td>11</td>\n",
       "    </tr>\n",
       "    <tr>\n",
       "      <th>1</th>\n",
       "      <td>158023</td>\n",
       "      <td>L. Messi</td>\n",
       "      <td>31</td>\n",
       "      <td>Argentina</td>\n",
       "      <td>94</td>\n",
       "      <td>94</td>\n",
       "      <td>FC Barcelona</td>\n",
       "      <td>110500000.0</td>\n",
       "      <td>565000.0</td>\n",
       "      <td>2202</td>\n",
       "      <td>...</td>\n",
       "      <td>75</td>\n",
       "      <td>96</td>\n",
       "      <td>33</td>\n",
       "      <td>28</td>\n",
       "      <td>26</td>\n",
       "      <td>6</td>\n",
       "      <td>11</td>\n",
       "      <td>15</td>\n",
       "      <td>14</td>\n",
       "      <td>8</td>\n",
       "    </tr>\n",
       "    <tr>\n",
       "      <th>2</th>\n",
       "      <td>190871</td>\n",
       "      <td>Neymar Jr</td>\n",
       "      <td>26</td>\n",
       "      <td>Brazil</td>\n",
       "      <td>92</td>\n",
       "      <td>93</td>\n",
       "      <td>Paris Saint-Germain</td>\n",
       "      <td>118500000.0</td>\n",
       "      <td>290000.0</td>\n",
       "      <td>2143</td>\n",
       "      <td>...</td>\n",
       "      <td>81</td>\n",
       "      <td>94</td>\n",
       "      <td>27</td>\n",
       "      <td>24</td>\n",
       "      <td>33</td>\n",
       "      <td>9</td>\n",
       "      <td>9</td>\n",
       "      <td>15</td>\n",
       "      <td>15</td>\n",
       "      <td>11</td>\n",
       "    </tr>\n",
       "    <tr>\n",
       "      <th>3</th>\n",
       "      <td>155862</td>\n",
       "      <td>Sergio Ramos</td>\n",
       "      <td>32</td>\n",
       "      <td>Spain</td>\n",
       "      <td>91</td>\n",
       "      <td>91</td>\n",
       "      <td>Real Madrid</td>\n",
       "      <td>51000000.0</td>\n",
       "      <td>380000.0</td>\n",
       "      <td>2201</td>\n",
       "      <td>...</td>\n",
       "      <td>75</td>\n",
       "      <td>82</td>\n",
       "      <td>87</td>\n",
       "      <td>92</td>\n",
       "      <td>91</td>\n",
       "      <td>11</td>\n",
       "      <td>8</td>\n",
       "      <td>9</td>\n",
       "      <td>7</td>\n",
       "      <td>11</td>\n",
       "    </tr>\n",
       "    <tr>\n",
       "      <th>4</th>\n",
       "      <td>177003</td>\n",
       "      <td>L. Modrić</td>\n",
       "      <td>32</td>\n",
       "      <td>Croatia</td>\n",
       "      <td>91</td>\n",
       "      <td>91</td>\n",
       "      <td>Real Madrid</td>\n",
       "      <td>67000000.0</td>\n",
       "      <td>420000.0</td>\n",
       "      <td>2280</td>\n",
       "      <td>...</td>\n",
       "      <td>82</td>\n",
       "      <td>84</td>\n",
       "      <td>60</td>\n",
       "      <td>76</td>\n",
       "      <td>73</td>\n",
       "      <td>13</td>\n",
       "      <td>9</td>\n",
       "      <td>7</td>\n",
       "      <td>14</td>\n",
       "      <td>9</td>\n",
       "    </tr>\n",
       "  </tbody>\n",
       "</table>\n",
       "<p>5 rows × 54 columns</p>\n",
       "</div>"
      ],
      "text/plain": [
       "       ID               Name  Age Nationality  Overall  Potential  \\\n",
       "0   20801  Cristiano Ronaldo   33    Portugal       94         94   \n",
       "1  158023           L. Messi   31   Argentina       94         94   \n",
       "2  190871          Neymar Jr   26      Brazil       92         93   \n",
       "3  155862       Sergio Ramos   32       Spain       91         91   \n",
       "4  177003          L. Modrić   32     Croatia       91         91   \n",
       "\n",
       "                  Club        Value      Wage  Special     ...     Penalties  \\\n",
       "0             Juventus   77000000.0  405000.0     2228     ...            85   \n",
       "1         FC Barcelona  110500000.0  565000.0     2202     ...            75   \n",
       "2  Paris Saint-Germain  118500000.0  290000.0     2143     ...            81   \n",
       "3          Real Madrid   51000000.0  380000.0     2201     ...            75   \n",
       "4          Real Madrid   67000000.0  420000.0     2280     ...            82   \n",
       "\n",
       "   Composure  Marking  StandingTackle SlidingTackle GKDiving GKHandling  \\\n",
       "0         95       28              31            23        7         11   \n",
       "1         96       33              28            26        6         11   \n",
       "2         94       27              24            33        9          9   \n",
       "3         82       87              92            91       11          8   \n",
       "4         84       60              76            73       13          9   \n",
       "\n",
       "  GKKicking GKPositioning  GKReflexes  \n",
       "0        15            14          11  \n",
       "1        15            14           8  \n",
       "2        15            15          11  \n",
       "3         9             7          11  \n",
       "4         7            14           9  \n",
       "\n",
       "[5 rows x 54 columns]"
      ]
     },
     "execution_count": 125,
     "metadata": {},
     "output_type": "execute_result"
    }
   ],
   "source": [
    "data=pd.read_csv(\"FIFA.csv\")\n",
    "print(\"Number of rows : {}\".format(len(data)))\n",
    "data.head()"
   ]
  },
  {
   "cell_type": "code",
   "execution_count": 126,
   "metadata": {},
   "outputs": [
    {
     "name": "stdout",
     "output_type": "stream",
     "text": [
      "Number of rows : 17907\n"
     ]
    },
    {
     "data": {
      "text/plain": [
       "Age                           int64\n",
       "Nationality                  object\n",
       "Overall                       int64\n",
       "Potential                     int64\n",
       "Club                         object\n",
       "Value                       float64\n",
       "Wage                        float64\n",
       "Special                       int64\n",
       "Preferred Foot               object\n",
       "International Reputation      int64\n",
       "Weak Foot                     int64\n",
       "Skill Moves                   int64\n",
       "Work Rate Defence            object\n",
       "Work Rate Attack             object\n",
       "Body Type                    object\n",
       "Position                     object\n",
       "Height                       object\n",
       "Weight                        int64\n",
       "Crossing                      int64\n",
       "Finishing                     int64\n",
       "HeadingAccuracy               int64\n",
       "ShortPassing                  int64\n",
       "Volleys                       int64\n",
       "Dribbling                     int64\n",
       "Curve                         int64\n",
       "FKAccuracy                    int64\n",
       "LongPassing                   int64\n",
       "BallControl                   int64\n",
       "Acceleration                  int64\n",
       "SprintSpeed                   int64\n",
       "Agility                       int64\n",
       "Reactions                     int64\n",
       "Balance                       int64\n",
       "ShotPower                     int64\n",
       "Jumping                       int64\n",
       "Stamina                       int64\n",
       "Strength                      int64\n",
       "LongShots                     int64\n",
       "Aggression                    int64\n",
       "Interceptions                 int64\n",
       "Positioning                   int64\n",
       "Vision                        int64\n",
       "Penalties                     int64\n",
       "Composure                     int64\n",
       "Marking                       int64\n",
       "StandingTackle                int64\n",
       "SlidingTackle                 int64\n",
       "GKDiving                      int64\n",
       "GKHandling                    int64\n",
       "GKKicking                     int64\n",
       "GKPositioning                 int64\n",
       "GKReflexes                    int64\n",
       "dtype: object"
      ]
     },
     "execution_count": 126,
     "metadata": {},
     "output_type": "execute_result"
    }
   ],
   "source": [
    "#Loose data we don't want\n",
    "data=data.drop([\"ID\",\"Name\"], axis=1)\n",
    "data=data.dropna()\n",
    "print(\"Number of rows : {}\".format(len(data)))\n",
    "#Check data types\n",
    "data.dtypes"
   ]
  },
  {
   "cell_type": "code",
   "execution_count": 127,
   "metadata": {},
   "outputs": [],
   "source": [
    "#Height brough in as wrong datatype\n",
    "#Converting string of height in ft to float in cm\n",
    "l=data[['Height']].values.tolist()\n",
    "ll=[]\n",
    "for i in range(len(l)):\n",
    "    ft=int(l[i][0][0])\n",
    "    inches=int(l[i][0][2])\n",
    "    val=30.48*ft+2.54*inches\n",
    "    ll.append(int(val))\n",
    "    \n",
    "data[\"Height\"]=ll"
   ]
  },
  {
   "cell_type": "code",
   "execution_count": 128,
   "metadata": {},
   "outputs": [],
   "source": [
    "data=data.fillna(method=\"ffill\")"
   ]
  },
  {
   "cell_type": "code",
   "execution_count": 129,
   "metadata": {},
   "outputs": [
    {
     "data": {
      "text/plain": [
       "Age                          int64\n",
       "Nationality                 object\n",
       "Overall                      int64\n",
       "Potential                    int64\n",
       "Club                        object\n",
       "Value                        int32\n",
       "Wage                         int32\n",
       "Special                      int64\n",
       "Preferred Foot              object\n",
       "International Reputation     int64\n",
       "Weak Foot                    int64\n",
       "Skill Moves                  int64\n",
       "Work Rate Defence           object\n",
       "Work Rate Attack            object\n",
       "Body Type                   object\n",
       "Position                    object\n",
       "Height                       int64\n",
       "Weight                       int64\n",
       "Crossing                     int64\n",
       "Finishing                    int64\n",
       "HeadingAccuracy              int64\n",
       "ShortPassing                 int64\n",
       "Volleys                      int64\n",
       "Dribbling                    int64\n",
       "Curve                        int64\n",
       "FKAccuracy                   int64\n",
       "LongPassing                  int64\n",
       "BallControl                  int64\n",
       "Acceleration                 int64\n",
       "SprintSpeed                  int64\n",
       "Agility                      int64\n",
       "Reactions                    int64\n",
       "Balance                      int64\n",
       "ShotPower                    int64\n",
       "Jumping                      int64\n",
       "Stamina                      int64\n",
       "Strength                     int64\n",
       "LongShots                    int64\n",
       "Aggression                   int64\n",
       "Interceptions                int64\n",
       "Positioning                  int64\n",
       "Vision                       int64\n",
       "Penalties                    int64\n",
       "Composure                    int64\n",
       "Marking                      int64\n",
       "StandingTackle               int64\n",
       "SlidingTackle                int64\n",
       "GKDiving                     int64\n",
       "GKHandling                   int64\n",
       "GKKicking                    int64\n",
       "GKPositioning                int64\n",
       "GKReflexes                   int64\n",
       "dtype: object"
      ]
     },
     "execution_count": 129,
     "metadata": {},
     "output_type": "execute_result"
    }
   ],
   "source": [
    "#Same again for wage and value but this time we will convert them straight to floats\n",
    "data[\"Wage\"]=pd.to_numeric(data[\"Wage\"], errors='coerce')\n",
    "data[\"Value\"]=pd.to_numeric(data[\"Value\"], errors='coerce')\n",
    "data[\"Wage\"]=data[\"Wage\"].astype(int)\n",
    "data[\"Value\"]=data[\"Value\"].astype(int)\n",
    "data.dtypes"
   ]
  },
  {
   "cell_type": "code",
   "execution_count": 130,
   "metadata": {},
   "outputs": [
    {
     "data": {
      "text/plain": [
       "Index([u'Age', u'Overall', u'Potential', u'Value', u'Wage', u'Special',\n",
       "       u'International Reputation', u'Weak Foot', u'Skill Moves', u'Height',\n",
       "       ...\n",
       "       u'Position_RB', u'Position_RCB', u'Position_RCM', u'Position_RDM',\n",
       "       u'Position_RF', u'Position_RM', u'Position_RS', u'Position_RW',\n",
       "       u'Position_RWB', u'Position_ST'],\n",
       "      dtype='object', length=898)"
      ]
     },
     "execution_count": 130,
     "metadata": {},
     "output_type": "execute_result"
    }
   ],
   "source": [
    "#For the remaining categorical data we will do a one-hot encoding\n",
    "from pandas import get_dummies \n",
    "data = get_dummies(data)\n",
    "data.columns"
   ]
  },
  {
   "cell_type": "code",
   "execution_count": 131,
   "metadata": {},
   "outputs": [
    {
     "name": "stdout",
     "output_type": "stream",
     "text": [
      "Number of rows :: 17907\n",
      "Number of columns :: 898\n",
      "\n",
      "\n",
      "Wages Summary\n",
      "count     17907.0\n",
      "mean       9888.0\n",
      "std       22149.0\n",
      "min        1000.0\n",
      "25%        1000.0\n",
      "50%        3000.0\n",
      "75%        9000.0\n",
      "max      565000.0\n",
      "Name: Wage, dtype: float64\n",
      "\n",
      "\n",
      "Value Summary\n",
      "count        17907.0\n",
      "mean       2450133.0\n",
      "std        5633207.0\n",
      "min          10000.0\n",
      "25%         325000.0\n",
      "50%         700000.0\n",
      "75%        2100000.0\n",
      "max      118500000.0\n",
      "Name: Value, dtype: float64\n"
     ]
    }
   ],
   "source": [
    "#Quick examination of the data set\n",
    "print(\"Number of rows :: {}\".format(data.shape[0]))\n",
    "print(\"Number of columns :: {}\".format(data.shape[1]))\n",
    "print(\"\\n\")\n",
    "print(\"Wages Summary\")\n",
    "print(data['Wage'].describe().round(decimals=0))\n",
    "print(\"\\n\")\n",
    "print(\"Value Summary\")\n",
    "print(data['Value'].describe().round(decimals=0))"
   ]
  },
  {
   "cell_type": "code",
   "execution_count": 132,
   "metadata": {},
   "outputs": [
    {
     "data": {
      "text/plain": [
       "array([[<matplotlib.axes._subplots.AxesSubplot object at 0x000000002DABD048>,\n",
       "        <matplotlib.axes._subplots.AxesSubplot object at 0x000000001F4D5710>]],\n",
       "      dtype=object)"
      ]
     },
     "execution_count": 132,
     "metadata": {},
     "output_type": "execute_result"
    },
    {
     "data": {
      "image/png": "[encoded data removed]",
      "text/plain": [
       "<Figure size 432x288 with 2 Axes>"
      ]
     },
     "metadata": {
      "needs_background": "light"
     },
     "output_type": "display_data"
    }
   ],
   "source": [
    "data[[\"Wage\",\"Value\"]].hist(bins=20)"
   ]
  },
  {
   "cell_type": "raw",
   "metadata": {},
   "source": [
    "Already we can see that the data is heavily squeed right. There is a lot of players who are paid a low amount and then some\n",
    "who are paid and valued much more. For this reason I am going to normalize the data set for these values as it leads to better\n",
    "performance of prediction. The predicted values can later be resized accordingly."
   ]
  },
  {
   "cell_type": "code",
   "execution_count": 133,
   "metadata": {},
   "outputs": [
    {
     "data": {
      "text/plain": [
       "array([[<matplotlib.axes._subplots.AxesSubplot object at 0x0000000029A804E0>,\n",
       "        <matplotlib.axes._subplots.AxesSubplot object at 0x000000001E52ECF8>]],\n",
       "      dtype=object)"
      ]
     },
     "execution_count": 133,
     "metadata": {},
     "output_type": "execute_result"
    },
    {
     "data": {
      "image/png": "[encoded data removed]",
      "text/plain": [
       "<Figure size 432x288 with 2 Axes>"
      ]
     },
     "metadata": {
      "needs_background": "light"
     },
     "output_type": "display_data"
    }
   ],
   "source": [
    "skewed_data=['Value', 'Wage']\n",
    "data_skewed=data[skewed_data]\n",
    "data_transformed=data_skewed.apply(lambda x: np.log(x + 1))\n",
    "\n",
    "# Visualize the new log distributions\n",
    "data_transformed.hist(bins=20)"
   ]
  },
  {
   "cell_type": "code",
   "execution_count": 134,
   "metadata": {},
   "outputs": [],
   "source": [
    "#Now that our data looks better we will use this and split it into our features and data we aim to predict\n",
    "features=data.drop(skewed_data, axis=1)\n",
    "Val=[]\n",
    "Wage=[]\n",
    "#For the project I am going to have two prediction models using the same features but to predict either Value or Wage\n",
    "#Keeping data accuracy but using integer values\n",
    "for i in data_transformed[\"Wage\"]:\n",
    "    Wage.append(int(i*1000000))\n",
    "    \n",
    "for i in data_transformed[\"Value\"]:\n",
    "    Val.append(int(i*1000000))\n",
    "\n",
    "data_transformed[\"Wage\"]=Wage\n",
    "data_transformed[\"Value\"]=Val"
   ]
  },
  {
   "cell_type": "code",
   "execution_count": 135,
   "metadata": {},
   "outputs": [
    {
     "name": "stdout",
     "output_type": "stream",
     "text": [
      "Training set has 14325 samples.\n",
      "Testing set has 3582 samples.\n"
     ]
    }
   ],
   "source": [
    "# Import train_test_split\n",
    "from sklearn.cross_validation import train_test_split\n",
    "\n",
    "# Split the 'features' and 'income' data into training and testing sets\n",
    "X_trainV, X_testV, y_trainV, y_testV = train_test_split(features, \n",
    "                                                    data_transformed[\"Value\"], \n",
    "                                                    test_size = 0.2, \n",
    "                                                    random_state = 0)\n",
    "\n",
    "X_trainW, X_testW, y_trainW, y_testW = train_test_split(features, \n",
    "                                                    data_transformed[\"Wage\"], \n",
    "                                                    test_size = 0.2, \n",
    "                                                    random_state = 0)\n",
    "# Show the results of the split\n",
    "print(\"Training set has {} samples.\".format(X_trainV.shape[0]))\n",
    "print(\"Testing set has {} samples.\".format(X_testV.shape[0]))"
   ]
  },
  {
   "cell_type": "code",
   "execution_count": 165,
   "metadata": {},
   "outputs": [],
   "source": [
    "# Import train_test_split\n",
    "from sklearn.cross_validation import train_test_split\n",
    "#PCA packages\n",
    "from sklearn.decomposition import RandomizedPCA\n",
    "from sklearn.decomposition import PCA\n",
    "#SVM and Gridsearch\n",
    "from sklearn.svm import SVC\n",
    "from sklearn.model_selection import GridSearchCV"
   ]
  },
  {
   "cell_type": "code",
   "execution_count": 166,
   "metadata": {},
   "outputs": [
    {
     "name": "stdout",
     "output_type": "stream",
     "text": [
      "Original number of features 896\n",
      "Taking the top 100 features via PCA\n"
     ]
    }
   ],
   "source": [
    "#Apply PCA to our feature data\n",
    "print(\"Original number of features {}\".format(features.shape[1]))\n",
    "top_features=100\n",
    "print(\"Taking the top {} features via PCA\".format(top_features))\n",
    "\n",
    "pca=PCA(n_components=top_features, whiten=True, svd_solver='randomized')\n",
    "#Fit on training data\n",
    "pcaV=pca.fit(X_trainV)\n",
    "pcaW=pca.fit(X_trainW)"
   ]
  },
  {
   "cell_type": "code",
   "execution_count": 167,
   "metadata": {},
   "outputs": [],
   "source": [
    "XtrainWpca=pcaW.transform(X_trainW)\n",
    "XtrainVpca=pcaV.transform(X_trainV)"
   ]
  },
  {
   "cell_type": "code",
   "execution_count": 256,
   "metadata": {},
   "outputs": [
    {
     "name": "stderr",
     "output_type": "stream",
     "text": [
      "C:\\Users\\Calvin\\Anaconda2\\lib\\site-packages\\sklearn\\cross_validation.py:553: Warning: The least populated class in y has only 1 members, which is too few. The minimum number of labels for any class cannot be less than n_folds=3.\n",
      "  % (min_labels, self.n_folds)), Warning)\n"
     ]
    },
    {
     "name": "stdout",
     "output_type": "stream",
     "text": [
      "Best estimator found by grid search:\n",
      "SVC(C=100000.0, cache_size=200, class_weight='balanced', coef0=0.0,\n",
      "  decision_function_shape='ovr', degree=3, gamma=0.0001, kernel='rbf',\n",
      "  max_iter=-1, probability=False, random_state=None, shrinking=True,\n",
      "  tol=0.001, verbose=False)\n"
     ]
    }
   ],
   "source": [
    "#Train a SVM model for Wages\n",
    "param_grid = {\n",
    "         'C': [1e3, 5e3, 1e4, 5e4, 1e5],\n",
    "          'gamma': [0.0001, 0.0005, 0.001, 0.005, 0.01, 0.1],\n",
    "          }\n",
    "\n",
    "# for sklearn version 0.16 or prior, the class_weight parameter value is 'auto'\n",
    "clfW = GridSearchCV(SVC(kernel='rbf', class_weight='balanced'), param_grid)\n",
    "clfW = clfW.fit(XtrainWpca, y_trainW)\n",
    "\n",
    "print(\"Best estimator found by grid search:\")\n",
    "print(clfW.best_estimator_)"
   ]
  },
  {
   "cell_type": "code",
   "execution_count": 172,
   "metadata": {},
   "outputs": [
    {
     "name": "stdout",
     "output_type": "stream",
     "text": [
      "Best estimator found by grid search:\n",
      "SVC(C=100000.0, cache_size=200, class_weight='balanced', coef0=0.0,\n",
      "  decision_function_shape='ovr', degree=3, gamma=0.0001, kernel='rbf',\n",
      "  max_iter=-1, probability=False, random_state=None, shrinking=True,\n",
      "  tol=0.001, verbose=False)\n"
     ]
    }
   ],
   "source": [
    "#Train a SVM model for Value\n",
    "param_grid = {\n",
    "         'C': [1e3, 5e3, 1e4, 5e4, 1e5],\n",
    "          'gamma': [0.0001, 0.0005, 0.001, 0.005, 0.01, 0.1],\n",
    "          }\n",
    "\n",
    "# for sklearn version 0.16 or prior, the class_weight parameter value is 'auto'\n",
    "clf = GridSearchCV(SVC(kernel='rbf', class_weight='balanced'), param_grid)\n",
    "clf = clf.fit(XtrainVpca, y_trainV)\n",
    "\n",
    "print(\"Best estimator found by grid search:\")\n",
    "print(clf.best_estimator_)"
   ]
  },
  {
   "cell_type": "raw",
   "metadata": {},
   "source": [
    "I have chosen to use a SVM model for this data. I believe it is the right choice because it can be very accurate and also allows us to use the relationship between variables which others don't do as well. This model will be able to find polynomial ralationships in the data and make beter use of the numerical (scaler) values. The data can be transformed to higher dimensions as necessary to perform a better split."
   ]
  },
  {
   "cell_type": "code",
   "execution_count": 257,
   "metadata": {},
   "outputs": [],
   "source": [
    "X_testWpca=pcaW.transform(X_testW)\n",
    "Wage_Predict=clfW.predict(X_testWpca)\n",
    "X_testVpca=pcaV.transform(X_testV)\n",
    "Value_Predict=clf.predict(X_testVpca)"
   ]
  },
  {
   "cell_type": "code",
   "execution_count": 259,
   "metadata": {},
   "outputs": [
    {
     "name": "stdout",
     "output_type": "stream",
     "text": [
      "[Value] :: Our model got an accuracy of 0.949829151719 \n",
      "[Wage] :: Our model got an accuracy of 0.896023250487 \n"
     ]
    }
   ],
   "source": [
    "#Score the model for predicting Value\n",
    "from sklearn.metrics import r2_score as r2\n",
    "#Measure performance\n",
    "def performance_metric(y_true, y_predict):\n",
    "    \"\"\" Calculates and returns the performance score between \n",
    "        true and predicted values based on the metric chosen. \"\"\"\n",
    "    \n",
    "    score = r2(y_true, y_predict)\n",
    "    \n",
    "    # Return the score\n",
    "    return score\n",
    "\n",
    "#Score the model for predicting Value\n",
    "rSquaredV=performance_metric(y_testV, Value_Predict)\n",
    "print(\"[Value] :: Our model got an accuracy of {} \".format(rSquaredV))\n",
    "\n",
    "#Score the model for predicting Wages\n",
    "rSquaredW=performance_metric(y_testW, Wage_Predict)\n",
    "print(\"[Wage] :: Our model got an accuracy of {} \".format(rSquaredW))"
   ]
  },
  {
   "cell_type": "raw",
   "metadata": {},
   "source": [
    "Our Model got a very good Rsquared value for predicting Value and also a pretty good score for wages. The result signifies that the model can explain about 95% and 90% of Value and Wages respectively. \n",
    "\n",
    "In an attempt to impove results I am going  to remove players above the 75 percentile from our dataset. I think this will remove outliers and improve our results due to how skewed the data was. I am also going to switch to using a regression model to show variation in the final project.\n",
    "\n",
    "We can now adopt the theory that we our a poorer football club who couldn't afford these players anyway and their removal is beneficial."
   ]
  },
  {
   "cell_type": "code",
   "execution_count": 194,
   "metadata": {},
   "outputs": [
    {
     "name": "stdout",
     "output_type": "stream",
     "text": [
      "New data has a count of12304\n"
     ]
    },
    {
     "data": {
      "text/html": [
       "<div>\n",
       "<style scoped>\n",
       "    .dataframe tbody tr th:only-of-type {\n",
       "        vertical-align: middle;\n",
       "    }\n",
       "\n",
       "    .dataframe tbody tr th {\n",
       "        vertical-align: top;\n",
       "    }\n",
       "\n",
       "    .dataframe thead th {\n",
       "        text-align: right;\n",
       "    }\n",
       "</style>\n",
       "<table border=\"1\" class=\"dataframe\">\n",
       "  <thead>\n",
       "    <tr style=\"text-align: right;\">\n",
       "      <th></th>\n",
       "      <th>Age</th>\n",
       "      <th>Overall</th>\n",
       "      <th>Potential</th>\n",
       "      <th>Value</th>\n",
       "      <th>Wage</th>\n",
       "      <th>Special</th>\n",
       "      <th>International Reputation</th>\n",
       "      <th>Weak Foot</th>\n",
       "      <th>Skill Moves</th>\n",
       "      <th>Height</th>\n",
       "      <th>...</th>\n",
       "      <th>Position_RB</th>\n",
       "      <th>Position_RCB</th>\n",
       "      <th>Position_RCM</th>\n",
       "      <th>Position_RDM</th>\n",
       "      <th>Position_RF</th>\n",
       "      <th>Position_RM</th>\n",
       "      <th>Position_RS</th>\n",
       "      <th>Position_RW</th>\n",
       "      <th>Position_RWB</th>\n",
       "      <th>Position_ST</th>\n",
       "    </tr>\n",
       "  </thead>\n",
       "  <tbody>\n",
       "    <tr>\n",
       "      <th>1198</th>\n",
       "      <td>40</td>\n",
       "      <td>76</td>\n",
       "      <td>76</td>\n",
       "      <td>525000</td>\n",
       "      <td>2000</td>\n",
       "      <td>1198</td>\n",
       "      <td>2</td>\n",
       "      <td>3</td>\n",
       "      <td>1</td>\n",
       "      <td>187</td>\n",
       "      <td>...</td>\n",
       "      <td>0</td>\n",
       "      <td>0</td>\n",
       "      <td>0</td>\n",
       "      <td>0</td>\n",
       "      <td>0</td>\n",
       "      <td>0</td>\n",
       "      <td>0</td>\n",
       "      <td>0</td>\n",
       "      <td>0</td>\n",
       "      <td>0</td>\n",
       "    </tr>\n",
       "    <tr>\n",
       "      <th>1575</th>\n",
       "      <td>36</td>\n",
       "      <td>75</td>\n",
       "      <td>75</td>\n",
       "      <td>775000</td>\n",
       "      <td>4000</td>\n",
       "      <td>2055</td>\n",
       "      <td>2</td>\n",
       "      <td>2</td>\n",
       "      <td>3</td>\n",
       "      <td>182</td>\n",
       "      <td>...</td>\n",
       "      <td>1</td>\n",
       "      <td>0</td>\n",
       "      <td>0</td>\n",
       "      <td>0</td>\n",
       "      <td>0</td>\n",
       "      <td>0</td>\n",
       "      <td>0</td>\n",
       "      <td>0</td>\n",
       "      <td>0</td>\n",
       "      <td>0</td>\n",
       "    </tr>\n",
       "    <tr>\n",
       "      <th>1578</th>\n",
       "      <td>37</td>\n",
       "      <td>75</td>\n",
       "      <td>75</td>\n",
       "      <td>900000</td>\n",
       "      <td>2000</td>\n",
       "      <td>1908</td>\n",
       "      <td>1</td>\n",
       "      <td>3</td>\n",
       "      <td>2</td>\n",
       "      <td>154</td>\n",
       "      <td>...</td>\n",
       "      <td>0</td>\n",
       "      <td>0</td>\n",
       "      <td>0</td>\n",
       "      <td>1</td>\n",
       "      <td>0</td>\n",
       "      <td>0</td>\n",
       "      <td>0</td>\n",
       "      <td>0</td>\n",
       "      <td>0</td>\n",
       "      <td>0</td>\n",
       "    </tr>\n",
       "    <tr>\n",
       "      <th>1586</th>\n",
       "      <td>35</td>\n",
       "      <td>75</td>\n",
       "      <td>75</td>\n",
       "      <td>1600000</td>\n",
       "      <td>5000</td>\n",
       "      <td>1114</td>\n",
       "      <td>1</td>\n",
       "      <td>2</td>\n",
       "      <td>1</td>\n",
       "      <td>187</td>\n",
       "      <td>...</td>\n",
       "      <td>0</td>\n",
       "      <td>0</td>\n",
       "      <td>0</td>\n",
       "      <td>0</td>\n",
       "      <td>0</td>\n",
       "      <td>0</td>\n",
       "      <td>0</td>\n",
       "      <td>0</td>\n",
       "      <td>0</td>\n",
       "      <td>0</td>\n",
       "    </tr>\n",
       "    <tr>\n",
       "      <th>2072</th>\n",
       "      <td>36</td>\n",
       "      <td>74</td>\n",
       "      <td>74</td>\n",
       "      <td>750000</td>\n",
       "      <td>5000</td>\n",
       "      <td>1869</td>\n",
       "      <td>2</td>\n",
       "      <td>3</td>\n",
       "      <td>2</td>\n",
       "      <td>185</td>\n",
       "      <td>...</td>\n",
       "      <td>0</td>\n",
       "      <td>1</td>\n",
       "      <td>0</td>\n",
       "      <td>0</td>\n",
       "      <td>0</td>\n",
       "      <td>0</td>\n",
       "      <td>0</td>\n",
       "      <td>0</td>\n",
       "      <td>0</td>\n",
       "      <td>0</td>\n",
       "    </tr>\n",
       "  </tbody>\n",
       "</table>\n",
       "<p>5 rows × 898 columns</p>\n",
       "</div>"
      ],
      "text/plain": [
       "      Age  Overall  Potential    Value  Wage  Special  \\\n",
       "1198   40       76         76   525000  2000     1198   \n",
       "1575   36       75         75   775000  4000     2055   \n",
       "1578   37       75         75   900000  2000     1908   \n",
       "1586   35       75         75  1600000  5000     1114   \n",
       "2072   36       74         74   750000  5000     1869   \n",
       "\n",
       "      International Reputation  Weak Foot  Skill Moves  Height     ...       \\\n",
       "1198                         2          3            1     187     ...        \n",
       "1575                         2          2            3     182     ...        \n",
       "1578                         1          3            2     154     ...        \n",
       "1586                         1          2            1     187     ...        \n",
       "2072                         2          3            2     185     ...        \n",
       "\n",
       "      Position_RB  Position_RCB  Position_RCM  Position_RDM  Position_RF  \\\n",
       "1198            0             0             0             0            0   \n",
       "1575            1             0             0             0            0   \n",
       "1578            0             0             0             1            0   \n",
       "1586            0             0             0             0            0   \n",
       "2072            0             1             0             0            0   \n",
       "\n",
       "      Position_RM  Position_RS  Position_RW  Position_RWB  Position_ST  \n",
       "1198            0            0            0             0            0  \n",
       "1575            0            0            0             0            0  \n",
       "1578            0            0            0             0            0  \n",
       "1586            0            0            0             0            0  \n",
       "2072            0            0            0             0            0  \n",
       "\n",
       "[5 rows x 898 columns]"
      ]
     },
     "execution_count": 194,
     "metadata": {},
     "output_type": "execute_result"
    }
   ],
   "source": [
    "new_data=data[data[\"Value\"]<2100000.0]\n",
    "new_data=new_data[new_data[\"Wage\"]<9000.0]\n",
    "print(\"New data has a count of{}\".format(len(new_data)))\n",
    "new_data.head()"
   ]
  },
  {
   "cell_type": "code",
   "execution_count": 198,
   "metadata": {},
   "outputs": [
    {
     "data": {
      "text/plain": [
       "array([[<matplotlib.axes._subplots.AxesSubplot object at 0x000000002934DA20>,\n",
       "        <matplotlib.axes._subplots.AxesSubplot object at 0x000000002935AE80>]],\n",
       "      dtype=object)"
      ]
     },
     "execution_count": 198,
     "metadata": {},
     "output_type": "execute_result"
    },
    {
     "data": {
      "image/png": "[encoded data removed]",
      "text/plain": [
       "<Figure size 432x288 with 2 Axes>"
      ]
     },
     "metadata": {
      "needs_background": "light"
     },
     "output_type": "display_data"
    }
   ],
   "source": [
    "#Create the histograms again for the new data\n",
    "new_data[['Value','Wage']].hist()"
   ]
  },
  {
   "cell_type": "raw",
   "metadata": {},
   "source": [
    "The histograms are looking a lot better now so there will be no modifications made to the Value and Wage columns.\n",
    "This time I am going to run a simpler regression model for prediction."
   ]
  },
  {
   "cell_type": "code",
   "execution_count": 208,
   "metadata": {},
   "outputs": [],
   "source": [
    "#Taking code to fit a model from boston houseing example\n",
    "from sklearn.metrics import make_scorer, f1_score\n",
    "from sklearn.tree import DecisionTreeRegressor\n",
    "from sklearn.grid_search import GridSearchCV\n",
    "from sklearn.cross_validation import ShuffleSplit\n",
    "\n",
    "#Fit the most appropriate model\n",
    "def fit_model(X, y):\n",
    "    \"\"\" Performs grid search over the 'max_depth' parameter for a \n",
    "        decision tree regressor trained on the input data [X, y]. \"\"\"\n",
    "    \n",
    "    # Create cross-validation sets from the training data\n",
    "    cv_sets = ShuffleSplit(X.shape[0], n_iter = 10, test_size = 0.20, random_state = 0)\n",
    "\n",
    "    regressor = DecisionTreeRegressor()\n",
    "\n",
    "    params = {'max_depth':[1,2,3,4,5,6,7,8,9,10]}\n",
    "\n",
    "    scoring_fnc = make_scorer(performance_metric)\n",
    "\n",
    "    grid_obj = GridSearchCV(regressor, params, scoring=scoring_fnc, cv=cv_sets)\n",
    "    \n",
    "    # Fit the grid search object to the data to compute the optimal model\n",
    "    grid_fit = grid_obj.fit(X, y)\n",
    "    \n",
    "    # Return the optimal model after fitting the data\n",
    "    return grid_fit.best_estimator_"
   ]
  },
  {
   "cell_type": "code",
   "execution_count": 202,
   "metadata": {},
   "outputs": [],
   "source": [
    "new_features=data.drop(['Value','Wage'], axis=1)\n",
    "new_Wage=data['Wage']\n",
    "new_Value=data['Value']"
   ]
  },
  {
   "cell_type": "code",
   "execution_count": 260,
   "metadata": {},
   "outputs": [
    {
     "name": "stdout",
     "output_type": "stream",
     "text": [
      "Training set has 14325 samples.\n",
      "The testing set has 3582 samples.\n"
     ]
    }
   ],
   "source": [
    "#Lets first do all analysis on Wage\n",
    "X_trainW, X_testW, y_trainW, y_testW = train_test_split(new_features, \n",
    "                                                    new_Wage, \n",
    "                                                    test_size = 0.2, \n",
    "                                                    random_state = 0)\n",
    "\n",
    "X_trainV, X_testV, y_trainV, y_testV = train_test_split(new_features, \n",
    "                                                    new_Value, \n",
    "                                                    test_size = 0.2, \n",
    "                                                    random_state = 0)\n",
    "# Show the results of the split\n",
    "print(\"Training set has {} samples.\".format(X_trainW.shape[0]))\n",
    "\n",
    "print(\"The testing set has {} samples.\".format(X_testW.shape[0]))"
   ]
  },
  {
   "cell_type": "code",
   "execution_count": 209,
   "metadata": {},
   "outputs": [
    {
     "name": "stdout",
     "output_type": "stream",
     "text": [
      "Parameter 'max_depth' is 4 for the optimal model.\n"
     ]
    }
   ],
   "source": [
    "res=fit_model(X_trainW, y_trainW)\n",
    "print(\"Parameter 'max_depth' is {} for the optimal model.\".format(res.get_params()['max_depth']))"
   ]
  },
  {
   "cell_type": "code",
   "execution_count": 261,
   "metadata": {},
   "outputs": [
    {
     "name": "stdout",
     "output_type": "stream",
     "text": [
      "Parameter 'max_depth' is 10 for the optimal model.\n"
     ]
    }
   ],
   "source": [
    "res2=fit_model(X_trainV, y_trainV)\n",
    "print(\"Parameter 'max_depth' is {} for the optimal model.\".format(res2.get_params()['max_depth']))"
   ]
  },
  {
   "cell_type": "code",
   "execution_count": 264,
   "metadata": {},
   "outputs": [
    {
     "name": "stdout",
     "output_type": "stream",
     "text": [
      "[Wage] :: Our model got an R-Squared Value of 0.91 \n"
     ]
    }
   ],
   "source": [
    "regressor = DecisionTreeRegressor(random_state = 0, max_depth=4) \n",
    "regressor=regressor.fit(X_trainW, y_trainW)\n",
    "Wpredict=regressor.predict(np.array(X_testW))\n",
    "Wage=[]\n",
    "for i in Wpredict:\n",
    "    Wage.append(int(i))\n",
    "#Score the model for predicting Wages\n",
    "rSquared=round(performance_metric(np.array(y_testW), np.array(Wage)),2)\n",
    "\n",
    "print(\"[Wage] :: Our model got an R-Squared Value of {} \".format(rSquared))\n"
   ]
  },
  {
   "cell_type": "code",
   "execution_count": 265,
   "metadata": {},
   "outputs": [
    {
     "name": "stdout",
     "output_type": "stream",
     "text": [
      "[Value] :: Our model got an R-Squared Value of 1.0 \n"
     ]
    }
   ],
   "source": [
    "regressor2 = DecisionTreeRegressor(random_state = 0, max_depth=4) \n",
    "regressor2=regressor2.fit(X_trainV, y_trainV)\n",
    "Vpredict=regressor2.predict(np.array(X_testV))\n",
    "Value=[]\n",
    "for i in Vpredict:\n",
    "    Value.append(int(i))\n",
    "#Score the model for predicting Wages\n",
    "rSquared2=round(performance_metric(np.array(y_testV), np.array(Value)),2)\n",
    "\n",
    "print(\"[Value] :: Our model got an R-Squared Value of {} \".format(rSquared2))"
   ]
  },
  {
   "cell_type": "raw",
   "metadata": {},
   "source": [
    "After removing the most expensive players and leaving us with a more centralized data set our regressor was able to more accurately predict the valaue and wages for a player. Rsquared values have increased to .91 and 1.0 for wages and value!"
   ]
  },
  {
   "cell_type": "code",
   "execution_count": 327,
   "metadata": {},
   "outputs": [
    {
     "data": {
      "text/html": [
       "<div>\n",
       "<style scoped>\n",
       "    .dataframe tbody tr th:only-of-type {\n",
       "        vertical-align: middle;\n",
       "    }\n",
       "\n",
       "    .dataframe tbody tr th {\n",
       "        vertical-align: top;\n",
       "    }\n",
       "\n",
       "    .dataframe thead th {\n",
       "        text-align: right;\n",
       "    }\n",
       "</style>\n",
       "<table border=\"1\" class=\"dataframe\">\n",
       "  <thead>\n",
       "    <tr style=\"text-align: right;\">\n",
       "      <th></th>\n",
       "      <th>Age</th>\n",
       "      <th>Overall</th>\n",
       "      <th>Potential</th>\n",
       "      <th>Value</th>\n",
       "      <th>Wage</th>\n",
       "      <th>Special</th>\n",
       "      <th>International Reputation</th>\n",
       "      <th>Weak Foot</th>\n",
       "      <th>Skill Moves</th>\n",
       "      <th>Height</th>\n",
       "      <th>...</th>\n",
       "      <th>Position_RB</th>\n",
       "      <th>Position_RCB</th>\n",
       "      <th>Position_RCM</th>\n",
       "      <th>Position_RDM</th>\n",
       "      <th>Position_RF</th>\n",
       "      <th>Position_RM</th>\n",
       "      <th>Position_RS</th>\n",
       "      <th>Position_RW</th>\n",
       "      <th>Position_RWB</th>\n",
       "      <th>Position_ST</th>\n",
       "    </tr>\n",
       "  </thead>\n",
       "  <tbody>\n",
       "    <tr>\n",
       "      <th>5070</th>\n",
       "      <td>30</td>\n",
       "      <td>70</td>\n",
       "      <td>70</td>\n",
       "      <td>1600000</td>\n",
       "      <td>6000</td>\n",
       "      <td>1907</td>\n",
       "      <td>1</td>\n",
       "      <td>3</td>\n",
       "      <td>3</td>\n",
       "      <td>154</td>\n",
       "      <td>...</td>\n",
       "      <td>0</td>\n",
       "      <td>0</td>\n",
       "      <td>1</td>\n",
       "      <td>0</td>\n",
       "      <td>0</td>\n",
       "      <td>0</td>\n",
       "      <td>0</td>\n",
       "      <td>0</td>\n",
       "      <td>0</td>\n",
       "      <td>0</td>\n",
       "    </tr>\n",
       "  </tbody>\n",
       "</table>\n",
       "<p>1 rows × 898 columns</p>\n",
       "</div>"
      ],
      "text/plain": [
       "      Age  Overall  Potential    Value  Wage  Special  \\\n",
       "5070   30       70         70  1600000  6000     1907   \n",
       "\n",
       "      International Reputation  Weak Foot  Skill Moves  Height     ...       \\\n",
       "5070                         1          3            3     154     ...        \n",
       "\n",
       "      Position_RB  Position_RCB  Position_RCM  Position_RDM  Position_RF  \\\n",
       "5070            0             0             1             0            0   \n",
       "\n",
       "      Position_RM  Position_RS  Position_RW  Position_RWB  Position_ST  \n",
       "5070            0            0            0             0            0  \n",
       "\n",
       "[1 rows x 898 columns]"
      ]
     },
     "execution_count": 327,
     "metadata": {},
     "output_type": "execute_result"
    }
   ],
   "source": [
    "#Check for a random player how close our model predicts his wage and value\n",
    "data_check=data[5000:5001]\n",
    "data_check"
   ]
  },
  {
   "cell_type": "code",
   "execution_count": 328,
   "metadata": {},
   "outputs": [],
   "source": [
    "features_check=data_check.drop(['Wage','Value'],axis=1)"
   ]
  },
  {
   "cell_type": "code",
   "execution_count": 334,
   "metadata": {},
   "outputs": [
    {
     "name": "stdout",
     "output_type": "stream",
     "text": [
      "For this player we predicted a Value of 1814005.0, and his actual Value was 1600000\n",
      "For this player we predicted a Wage of 7980.0, and his actual Wage was 6000\n"
     ]
    }
   ],
   "source": [
    "predictcheckWage=round(regressor.predict(features_check),0)\n",
    "predictcheckValue=round(regressor2.predict(features_check),0)\n",
    "print('For this player we predicted a Value of {}, and his actual Value was {}'.format(predictcheckValue,1600000))\n",
    "print('For this player we predicted a Wage of {}, and his actual Wage was {}'.format(predictcheckWage,6000))"
   ]
  },
  {
   "cell_type": "raw",
   "metadata": {},
   "source": [
    "So overall we achiveved some pretty good results here. We formed different models using SVM and regression, both getting high Rsquared values. Also we saw that removing outliers and reducing the skew we achieved even better results again. "
   ]
  }
 ],
 "metadata": {
  "kernelspec": {
   "display_name": "Python 2",
   "language": "python",
   "name": "python2"
  },
  "language_info": {
   "codemirror_mode": {
    "name": "ipython",
    "version": 2
   },
   "file_extension": ".py",
   "mimetype": "text/x-python",
   "name": "python",
   "nbconvert_exporter": "python",
   "pygments_lexer": "ipython2",
   "version": "2.7.15"
  }
 },
 "nbformat": 4,
 "nbformat_minor": 2
}
